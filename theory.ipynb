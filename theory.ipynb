{
 "cells": [
  {
   "cell_type": "markdown",
   "metadata": {},
   "source": [
    "### Conv2D\n",
    "Articles\n",
    " - https://towardsdatascience.com/conv2d-to-finally-understand-what-happens-in-the-forward-pass-1bbaafb0b148\n",
    " - https://towardsdatascience.com/intuitively-understanding-convolutions-for-deep-learning-1f6f42faee1\n",
    "\n",
    "### MaxPool2D\n",
    "Articles\n",
    " - https://www.quora.com/What-is-max-pooling-in-convolutional-neural-networks\n",
    "\n",
    "![MaxPool2D](./notebook_images/maxpolling.jpg)\n",
    "### Flatten Layer\n",
    "\n",
    "\n",
    "Keras flatten class is very important when you have to deal with multi-dimensional inputs such as image datasets. Keras.layers.flatten function flattens the multi-dimensional input tensors into a single dimension, so you can model your input layer and build your neural network model, then pass those data into every single neuron of the model effectively.\n",
    "\n",
    "You can understand this easily with the fashion MNIST dataset. The images in this dataset are 28 * 28 pixels. Hence if you print the first image in python you can see a multi-dimensional array, which we really can't feed into the input layer of our Deep Neural Network.\n",
    "\n",
    "print(train_images[0])\n",
    "\n",
    "first image of fashion MNIST\n",
    "\n",
    "To tackle this problem we can flatten the image data when feeding it into a neural network. We can do this by turning this multidimensional tensor into a one-dimensional array. In this flattened array now we have 784 elements (28 * 28). Then we can create out input layer with 784 neurons to handle each element of the incoming data.\n",
    "\n",
    "We can do this all by using a single line of code, sort of...\n",
    "\n",
    "keras.layers.flatten(input_shape=(28,28))\n",
    "\n",
    "You can read the full tutorial at neural net lab if you need to see how it work practically, train the model and evaluate it for accuracy.\n",
    "\n",
    "![Flatten](./notebook_images/flatten.jpg)"
   ]
  },
  {
   "cell_type": "code",
   "execution_count": null,
   "metadata": {},
   "outputs": [],
   "source": []
  }
 ],
 "metadata": {
  "language_info": {
   "name": "python"
  },
  "orig_nbformat": 4
 },
 "nbformat": 4,
 "nbformat_minor": 2
}
